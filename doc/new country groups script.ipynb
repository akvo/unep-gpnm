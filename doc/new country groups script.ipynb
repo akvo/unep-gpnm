{
 "cells": [
  {
   "cell_type": "code",
   "execution_count": null,
   "metadata": {},
   "outputs": [],
   "source": [
    "import pandas as pd\n",
    "import numpy as np\n",
    "import json\n",
    "from openpyxl import load_workbook, Workbook\n",
    "import os\n",
    "import difflib as kwrd\n",
    "import re\n",
    "pd.options.display.max_rows = 500"
   ]
  },
  {
   "cell_type": "code",
   "execution_count": null,
   "metadata": {},
   "outputs": [],
   "source": [
    "## Assuming you have download Transnational list 2021-04-14.xlsx\n",
    "## FILE: https://docs.google.com/spreadsheets/d/1zeWnuKsclWILw-LBltuE2q8glsjqg_vE/edit"
   ]
  },
  {
   "cell_type": "code",
   "execution_count": null,
   "metadata": {},
   "outputs": [],
   "source": [
    "EXCEL_FILE = 'Transnational list 2021-04-14.xlsx'\n",
    "EXCEL_TMP_FILE = '{}-tmp.xlsx'.format(EXCEL_FILE)\n",
    "OUTPUT_FOLDER = \"../backend/dev/resources/files/\"\n",
    "country_group_column = {0:'id',1:'label',2:'name'}"
   ]
  },
  {
   "cell_type": "code",
   "execution_count": null,
   "metadata": {},
   "outputs": [],
   "source": [
    "def format_sheet(title):\n",
    "    return 's-{}'.format(title.strip().replace(' ','').lower())"
   ]
  },
  {
   "cell_type": "code",
   "execution_count": null,
   "metadata": {},
   "outputs": [],
   "source": [
    "## Create Temporary Clean Version of Excel Sheet\n",
    "wb = load_workbook(EXCEL_FILE)\n",
    "for a in wb:\n",
    "    a.title = format_sheet(a.title)\n",
    "wb.save(EXCEL_TMP_FILE)"
   ]
  },
  {
   "cell_type": "code",
   "execution_count": null,
   "metadata": {},
   "outputs": [],
   "source": [
    "sheet_to_df_map = list(pd.read_excel(EXCEL_TMP_FILE, sheet_name=None))\n",
    "country_group = pd.read_excel(EXCEL_TMP_FILE, sheet_name=sheet_to_df_map[0])\n",
    "country_group = country_group[list(country_group)[:3]]\n",
    "country_group_columns_rename = {}\n",
    "for i, x in enumerate(list(country_group)[:3]):\n",
    "    country_group = country_group.rename(columns={x:country_group_column[i]})"
   ]
  },
  {
   "cell_type": "code",
   "execution_count": null,
   "metadata": {},
   "outputs": [],
   "source": [
    "country_group['id'] = country_group['id'].fillna(0).astype('int')\n",
    "country_group['category'] = ''"
   ]
  },
  {
   "cell_type": "code",
   "execution_count": null,
   "metadata": {},
   "outputs": [],
   "source": [
    "# indexing category and modify duplicated id\n",
    "category = ''\n",
    "current_id = country_group.loc[1,'id']\n",
    "for i in range(0, len(country_group)):\n",
    "    if country_group.loc[i, 'name'] != country_group.loc[i, 'name']:\n",
    "        category = country_group.loc[i, 'label']\n",
    "    if country_group.loc[i, 'name'] == country_group.loc[i, 'name']:\n",
    "        country_group.loc[i,'category'] = category\n",
    "        # remove below code if id is not duplicated anymore\n",
    "        if current_id < int(country_group.loc[i,'id']):\n",
    "            country_group.loc[i,'id'] = current_id + 1\n",
    "        current_id = country_group.loc[i,'id']"
   ]
  },
  {
   "cell_type": "code",
   "execution_count": null,
   "metadata": {},
   "outputs": [],
   "source": [
    "# Stip all extra spaces\n",
    "object_column = list(country_group.select_dtypes(['object']))\n",
    "country_group[object_column] = country_group[object_column].apply(lambda x: x.str.strip())"
   ]
  },
  {
   "cell_type": "code",
   "execution_count": null,
   "metadata": {},
   "outputs": [],
   "source": [
    "country_group = country_group[country_group['name'] == country_group['name']].reset_index()\n",
    "country_group['sheet_name'] = country_group['name'].apply(lambda x: format_sheet(x))\n",
    "country_group['countries'] = ''"
   ]
  },
  {
   "cell_type": "code",
   "execution_count": null,
   "metadata": {},
   "outputs": [],
   "source": [
    "# creating new_country_group_countries.json\n",
    "# removing tmp file\n",
    "country_group_countries = {}\n",
    "for i in range(0, len(country_group)):\n",
    "    sheet_name = country_group.loc[i,'sheet_name']\n",
    "    country_group_name = country_group.loc[i,'name']\n",
    "    try:\n",
    "        countries = pd.read_excel(EXCEL_TMP_FILE, sheet_name=sheet_name, names=['name'])\n",
    "        country_group_countries.update({country_group_name:list(countries['name'])})\n",
    "    except:\n",
    "        print('{} doesn\\'t exists'.format(sheet_name))\n",
    "        print('Trying to check matches with removing word \"and\"')\n",
    "        try:\n",
    "            countries = pd.read_excel(EXCEL_TMP_FILE, sheet_name=sheet_name.replace('and',''), names=['name'])\n",
    "            country_group_countries.update({country_group_name:list(countries['name'])})\n",
    "            print('{} Found'.format(sheet_name.replace('and','')))\n",
    "        except:\n",
    "            print('{} is still Not Found'.format(sheet_name.replace('and','')))\n",
    "\n",
    "OUTPUT_FILE = \"{}new_country_group_countries.json\".format(OUTPUT_FOLDER)\n",
    "\n",
    "with open(OUTPUT_FILE, \"w\") as f: \n",
    "    json.dump(country_group_countries, f,indent=2)\n",
    "    \n",
    "os.remove(EXCEL_TMP_FILE)"
   ]
  },
  {
   "cell_type": "code",
   "execution_count": null,
   "metadata": {},
   "outputs": [],
   "source": [
    "# We need to confirm to UNEP about type of country group\n",
    "def get_country_group_type(x):\n",
    "    return 'region' if 'region' in x.lower() else 'mea'\n",
    "country_group['type'] = country_group['category'].apply(lambda x: get_country_group_type(x))"
   ]
  },
  {
   "cell_type": "code",
   "execution_count": null,
   "metadata": {},
   "outputs": [],
   "source": [
    "## Reshape Country_group\n",
    "columns = [country_group_column[x] for x in country_group_column]\n",
    "columns.append('type')\n",
    "columns.append('category')\n",
    "country_group = country_group[columns]"
   ]
  },
  {
   "cell_type": "code",
   "execution_count": null,
   "metadata": {},
   "outputs": [],
   "source": [
    "## Identification of duplicated with old country_group data"
   ]
  },
  {
   "cell_type": "code",
   "execution_count": null,
   "metadata": {},
   "outputs": [],
   "source": [
    "OLD_FILE = \"{}country_group.json\".format(OUTPUT_FOLDER)\n",
    "with open(OLD_FILE, \"r\") as f: \n",
    "    old_country_group = json.load(f)"
   ]
  },
  {
   "cell_type": "code",
   "execution_count": null,
   "metadata": {},
   "outputs": [],
   "source": [
    "old_country_group = pd.DataFrame(old_country_group)"
   ]
  },
  {
   "cell_type": "code",
   "execution_count": null,
   "metadata": {},
   "outputs": [],
   "source": [
    "matched_id = []\n",
    "\n",
    "def format_match(x):\n",
    "    convention = re.findall(\"([a-zA-Z]+\\ Convention)\", x)\n",
    "    if len(convention) > 0:\n",
    "        return convention[0].lower().strip()\n",
    "    convention = re.findall(\"[a-zA-Z]+\\ Convention\", x)\n",
    "    if len(convention) > 0:\n",
    "        return convention[0].lower().strip()\n",
    "    replaces = ['-','(',')','states']\n",
    "    x = x.lower()\n",
    "    for r in replaces:\n",
    "        x = x.replace(r,' ')\n",
    "    x = x.replace('Asian','Asia')\n",
    "    return x.strip()\n",
    "\n",
    "def similar(cg,og):\n",
    "    cg = cg[~cg.id.isin(matched_id)]\n",
    "    data = ['id','label','name']\n",
    "    ##try for exact match\n",
    "    exact = cg[cg['name'] == og['name']]\n",
    "    if len(list(exact['name'])) > 0:\n",
    "        matches = exact[data].to_dict('records')[0]\n",
    "        matched_id.append(matches['id'])\n",
    "        return matches\n",
    "    name = format_match(og['name'].replace('Protocol','Convention'))\n",
    "    ##try other condition\n",
    "    if 'convention' in name:\n",
    "        mg = cg[cg['keywords'] == name]\n",
    "        if len(list(mg['name'])) > 0:\n",
    "            matches = mg[data].to_dict('records')[0]\n",
    "            matched_id.append(matches['id'])\n",
    "            return matches\n",
    "        else:\n",
    "            return None\n",
    "    keywords = list(cg['keywords'])\n",
    "    match = kwrd.get_close_matches(name,keywords,n=2, cutoff=0.5) \n",
    "    if len(match) > 0:\n",
    "        matches = cg[cg['keywords'] == match[0]][data].to_dict('records')[0]\n",
    "        matched_id.append(matches['id'])\n",
    "        return matches\n",
    "    return None\n",
    "\n",
    "country_group['keywords'] = country_group['label'].apply(lambda x: format_match(x))\n",
    "old_country_group['order'] = old_country_group['name'].apply(lambda x: 1 if \"Convention\" in x else 2)\n",
    "old_country_group = old_country_group.sort_values('order')\n",
    "old_country_group['match'] = old_country_group.apply(lambda x: similar(country_group, x), axis=1)"
   ]
  },
  {
   "cell_type": "code",
   "execution_count": null,
   "metadata": {},
   "outputs": [],
   "source": [
    "def other_similar(cg, x):\n",
    "    if x['match'] != None:\n",
    "        return x['match']\n",
    "    cg = cg[~cg.id.isin(matched_id)]\n",
    "    for c in cg.to_dict('records'):\n",
    "        capitals = re.findall(\"[A-Z][A-Z]+\", c['label'])\n",
    "        current = re.findall(\"[A-Z][A-Z]+\", x['name'])\n",
    "        if len(capitals) > 0 and len(current) > 0:\n",
    "            if capitals[0] == current[0]:\n",
    "                matched_id.append(c['id'])\n",
    "                return c\n",
    "    return None"
   ]
  },
  {
   "cell_type": "code",
   "execution_count": null,
   "metadata": {},
   "outputs": [],
   "source": [
    "## Try another approach\n",
    "old_country_group['match'] = old_country_group.apply(lambda x: other_similar(country_group, x), axis=1)"
   ]
  },
  {
   "cell_type": "code",
   "execution_count": null,
   "metadata": {},
   "outputs": [],
   "source": [
    "## Create file to report\n",
    "old_country_group.to_csv('old-country-group-close-matches-with-new.csv')\n",
    "country_group[~country_group.id.isin(matched_id)].to_csv('non-duplicated-new-country-group.csv')\n",
    "print(\"# Non Duplicated Country Group\")\n",
    "country_group[~country_group.id.isin(matched_id)]"
   ]
  },
  {
   "cell_type": "code",
   "execution_count": null,
   "metadata": {
    "scrolled": false
   },
   "outputs": [],
   "source": [
    "print(\"# Non Listed Old Country Group\")\n",
    "old_country_group[old_country_group['match'] != old_country_group['match']].reset_index()[['id','name']]"
   ]
  },
  {
   "cell_type": "code",
   "execution_count": null,
   "metadata": {
    "scrolled": true
   },
   "outputs": [],
   "source": [
    "def json_to_series(text):\n",
    "    keys, values = zip(*[item for dct in json.loads(text) for item in dct.items()])\n",
    "    return pd.Series(values, index=keys)"
   ]
  },
  {
   "cell_type": "code",
   "execution_count": null,
   "metadata": {},
   "outputs": [],
   "source": [
    "old_country_group['new_id'] = old_country_group.apply(lambda x: x['match']['id'] if x['match'] else x['id'] + 1000,axis=1)"
   ]
  },
  {
   "cell_type": "code",
   "execution_count": null,
   "metadata": {},
   "outputs": [],
   "source": [
    "country_group_mapping = {}\n",
    "for a in old_country_group[['id','new_id']].sort_values('id').to_dict('records'):\n",
    "    country_group_mapping.update({str(a['id']):int(a['new_id'])})\n",
    "\n",
    "OUTPUT_FILE = \"{}new_country_groups_mapping.json\".format(OUTPUT_FOLDER)\n",
    "\n",
    "with open(OUTPUT_FILE, \"w\") as f: \n",
    "    json.dump(country_group_mapping, f,indent=2)"
   ]
  },
  {
   "cell_type": "code",
   "execution_count": null,
   "metadata": {
    "scrolled": false
   },
   "outputs": [],
   "source": [
    "old_country_group['label'] = old_country_group['name']\n",
    "old_country_group_to_be_merged = old_country_group[old_country_group['new_id'] > 1000]\n",
    "old_country_group_to_be_merged = old_country_group_to_be_merged.drop(columns=['id'])\n",
    "old_country_group_to_be_merged = old_country_group_to_be_merged.rename(columns={'new_id':'id'})\n",
    "old_country_group_to_be_merged = old_country_group_to_be_merged[['id','label','name','type']]"
   ]
  },
  {
   "cell_type": "code",
   "execution_count": null,
   "metadata": {},
   "outputs": [],
   "source": [
    "merged_country_group = pd.concat([country_group,old_country_group_to_be_merged])\n",
    "merged_country_group = merged_country_group[columns]\n",
    "merged_country_group['category'] = merged_country_group['category'].apply(lambda x: x if x == x else None)"
   ]
  },
  {
   "cell_type": "code",
   "execution_count": null,
   "metadata": {
    "scrolled": false
   },
   "outputs": [],
   "source": [
    "# creating new_country_group_countries.json\n",
    "OUTPUT_FILE = \"{}new_country_group.json\".format(OUTPUT_FOLDER)\n",
    "merged_country_group.to_json(OUTPUT_FILE,orient='records',indent=2)"
   ]
  },
  {
   "cell_type": "code",
   "execution_count": null,
   "metadata": {
    "scrolled": false
   },
   "outputs": [],
   "source": [
    "# Merging old country group countries with new country group countries\n",
    "\n",
    "OLD_FILE = \"{}country_group_countries.json\".format(OUTPUT_FOLDER)\n",
    "with open(OLD_FILE, \"r\") as f: \n",
    "    old_country_group_countries = json.load(f)\n",
    "    \n",
    "NEW_FILE = \"{}new_country_group_countries.json\".format(OUTPUT_FOLDER)\n",
    "with open(NEW_FILE, \"r\") as f: \n",
    "    new_country_group_countries = json.load(f)\n",
    "    \n",
    "for ocg in old_country_group_to_be_merged['label'].to_list():\n",
    "    if ocg not in list(old_country_group_countries):\n",
    "        print(\"{} doesn't have country group list\".format(ocg))\n",
    "    else:\n",
    "        new_country_group_countries.update({ocg:old_country_group_countries[ocg]})\n",
    "\n",
    "OUTPUT_FILE = \"{}new_country_group_countries.json\".format(OUTPUT_FOLDER)\n",
    "\n",
    "with open(OUTPUT_FILE, \"w\") as f: \n",
    "    json.dump(new_country_group_countries, f,indent=2)"
   ]
  },
  {
   "cell_type": "code",
   "execution_count": null,
   "metadata": {},
   "outputs": [],
   "source": []
  }
 ],
 "metadata": {
  "kernelspec": {
   "display_name": "Python 3",
   "language": "python",
   "name": "python3"
  },
  "language_info": {
   "codemirror_mode": {
    "name": "ipython",
    "version": 3
   },
   "file_extension": ".py",
   "mimetype": "text/x-python",
   "name": "python",
   "nbconvert_exporter": "python",
   "pygments_lexer": "ipython3",
   "version": "3.8.5"
  },
  "toc": {
   "base_numbering": 1,
   "nav_menu": {},
   "number_sections": true,
   "sideBar": true,
   "skip_h1_title": false,
   "title_cell": "Table of Contents",
   "title_sidebar": "Contents",
   "toc_cell": false,
   "toc_position": {},
   "toc_section_display": true,
   "toc_window_display": false
  }
 },
 "nbformat": 4,
 "nbformat_minor": 4
}
