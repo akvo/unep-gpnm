{
 "cells": [
  {
   "cell_type": "code",
   "execution_count": null,
   "metadata": {},
   "outputs": [],
   "source": [
    "import pandas as pd\n",
    "import numpy as np\n",
    "import json\n",
    "from openpyxl import load_workbook, Workbook\n",
    "import os"
   ]
  },
  {
   "cell_type": "code",
   "execution_count": null,
   "metadata": {},
   "outputs": [],
   "source": [
    "## Assuming you have download Transnational list 2021-04-14.xlsx\n",
    "## FILE: https://docs.google.com/spreadsheets/d/1zeWnuKsclWILw-LBltuE2q8glsjqg_vE/edit"
   ]
  },
  {
   "cell_type": "code",
   "execution_count": null,
   "metadata": {},
   "outputs": [],
   "source": [
    "EXCEL_FILE = 'Transnational list 2021-04-14.xlsx'\n",
    "EXCEL_TMP_FILE = '{}-tmp.xlsx'.format(EXCEL_FILE)\n",
    "OUTPUT_FOLDER = \"../backend/dev/resources/files/\"\n",
    "country_group_column = {0:'id',1:'label',2:'name'}"
   ]
  },
  {
   "cell_type": "code",
   "execution_count": null,
   "metadata": {},
   "outputs": [],
   "source": [
    "def format_sheet(title):\n",
    "    return 's-{}'.format(title.strip().replace(' ','').lower())"
   ]
  },
  {
   "cell_type": "code",
   "execution_count": null,
   "metadata": {},
   "outputs": [],
   "source": [
    "## Create Temporary Clean Version of Excel Sheet\n",
    "wb = load_workbook(EXCEL_FILE)\n",
    "for a in wb:\n",
    "    a.title = format_sheet(a.title)\n",
    "wb.save(EXCEL_TMP_FILE)"
   ]
  },
  {
   "cell_type": "code",
   "execution_count": null,
   "metadata": {},
   "outputs": [],
   "source": [
    "sheet_to_df_map = list(pd.read_excel(EXCEL_TMP_FILE, sheet_name=None))\n",
    "country_group = pd.read_excel(EXCEL_TMP_FILE, sheet_name=sheet_to_df_map[0])\n",
    "country_group = country_group[list(country_group)[:3]]\n",
    "country_group_columns_rename = {}\n",
    "for i, x in enumerate(list(country_group)[:3]):\n",
    "    country_group = country_group.rename(columns={x:country_group_column[i]})"
   ]
  },
  {
   "cell_type": "code",
   "execution_count": null,
   "metadata": {},
   "outputs": [],
   "source": [
    "country_group['id'] = country_group['id'].fillna(0).astype('int')\n",
    "country_group['category'] = ''"
   ]
  },
  {
   "cell_type": "code",
   "execution_count": null,
   "metadata": {},
   "outputs": [],
   "source": [
    "# indexing category and modify duplicated id\n",
    "category = ''\n",
    "current_id = country_group.loc[1,'id']\n",
    "for i in range(0, len(country_group)):\n",
    "    if country_group.loc[i, 'name'] != country_group.loc[i, 'name']:\n",
    "        category = country_group.loc[i, 'label']\n",
    "    if country_group.loc[i, 'name'] == country_group.loc[i, 'name']:\n",
    "        country_group.loc[i,'category'] = category\n",
    "        # remove below code if id is not duplicated anymore\n",
    "        if current_id < int(country_group.loc[i,'id']):\n",
    "            country_group.loc[i,'id'] = current_id + 1\n",
    "        current_id = country_group.loc[i,'id']"
   ]
  },
  {
   "cell_type": "code",
   "execution_count": null,
   "metadata": {},
   "outputs": [],
   "source": [
    "# Stip all extra spaces\n",
    "object_column = list(country_group.select_dtypes(['object']))\n",
    "country_group[object_column] = country_group[object_column].apply(lambda x: x.str.strip())"
   ]
  },
  {
   "cell_type": "code",
   "execution_count": null,
   "metadata": {},
   "outputs": [],
   "source": [
    "country_group = country_group[country_group['name'] == country_group['name']].reset_index()\n",
    "country_group['sheet_name'] = country_group['name'].apply(lambda x: format_sheet(x))\n",
    "country_group['countries'] = ''"
   ]
  },
  {
   "cell_type": "code",
   "execution_count": null,
   "metadata": {},
   "outputs": [],
   "source": [
    "# creating country_group_countries-new.json\n",
    "# removing tmp file\n",
    "country_group_countries = {}\n",
    "for i in range(0, len(country_group)):\n",
    "    sheet_name = country_group.loc[i,'sheet_name']\n",
    "    country_group_name = country_group.loc[i,'name']\n",
    "    try:\n",
    "        countries = pd.read_excel(EXCEL_TMP_FILE, sheet_name=sheet_name, names=['name'])\n",
    "        country_group_countries.update({country_group_name:list(countries['name'])})\n",
    "    except:\n",
    "        print('{} doesn\\'t exists'.format(sheet_name))\n",
    "        print('Trying to check matches with removing word \"and\"')\n",
    "        try:\n",
    "            countries = pd.read_excel(EXCEL_TMP_FILE, sheet_name=sheet_name.replace('and',''), names=['name'])\n",
    "            country_group_countries.update({country_group_name:list(countries['name'])})\n",
    "            print('{} Found'.format(sheet_name.replace('and','')))\n",
    "        except:\n",
    "            print('{} is still Not Found'.format(sheet_name.replace('and','')))"
   ]
  },
  {
   "cell_type": "code",
   "execution_count": null,
   "metadata": {},
   "outputs": [],
   "source": [
    "OUTPUT_FILE = \"{}country_group_countries-new.json\".format(OUTPUT_FOLDER)\n",
    "\n",
    "with open(OUTPUT_FILE, \"w\") as f: \n",
    "    json.dump(country_group_countries, f,indent=2)\n",
    "    \n",
    "os.remove(EXCEL_TMP_FILE)"
   ]
  },
  {
   "cell_type": "code",
   "execution_count": null,
   "metadata": {},
   "outputs": [],
   "source": [
    "# We need to confirm to UNEP about type of country group\n",
    "def get_country_group_type(x):\n",
    "    return 'region' if 'region' in x.lower() else 'mea'\n",
    "country_group['type'] = country_group['category'].apply(lambda x: get_country_group_type(x))"
   ]
  },
  {
   "cell_type": "code",
   "execution_count": null,
   "metadata": {},
   "outputs": [],
   "source": [
    "columns = [country_group_column[x] for x in country_group_column]\n",
    "columns.append('type')\n",
    "columns.append('category')\n",
    "country_group = country_group[columns]"
   ]
  },
  {
   "cell_type": "code",
   "execution_count": null,
   "metadata": {},
   "outputs": [],
   "source": [
    "OUTPUT_FILE = \"{}country_group-new.json\".format(OUTPUT_FOLDER)\n",
    "country_group.to_json(OUTPUT_FILE,orient='records',indent=2)"
   ]
  }
 ],
 "metadata": {
  "kernelspec": {
   "display_name": "Python 3",
   "language": "python",
   "name": "python3"
  },
  "language_info": {
   "codemirror_mode": {
    "name": "ipython",
    "version": 3
   },
   "file_extension": ".py",
   "mimetype": "text/x-python",
   "name": "python",
   "nbconvert_exporter": "python",
   "pygments_lexer": "ipython3",
   "version": "3.8.5"
  },
  "toc": {
   "base_numbering": 1,
   "nav_menu": {},
   "number_sections": true,
   "sideBar": true,
   "skip_h1_title": false,
   "title_cell": "Table of Contents",
   "title_sidebar": "Contents",
   "toc_cell": false,
   "toc_position": {},
   "toc_section_display": true,
   "toc_window_display": false
  }
 },
 "nbformat": 4,
 "nbformat_minor": 4
}
